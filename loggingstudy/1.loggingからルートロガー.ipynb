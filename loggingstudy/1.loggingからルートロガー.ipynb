{
 "cells": [
  {
   "cell_type": "markdown",
   "metadata": {},
   "source": [
    "## logging.basicConfig()引数\n",
    "\n",
    "|名前|フォーマット|\n",
    "|:--|:--|\n",
    "|asctime|%(asctime)s|\n",
    "|filename|%(filename)s|\n",
    "|funcName|%(funcName)s|\n",
    "|levelname|%(levelname)s|\n",
    "|lineno|%(lineno)d|\n",
    "|module|%(module)s|\n",
    "|message|%(message)s|\n",
    "|name|%(name)s|\n",
    "|pathname|%(pathname)s|\n",
    "|process|%(process)d|\n",
    "|thread|%(thread)d|\n"
   ]
  },
  {
   "cell_type": "code",
   "execution_count": 1,
   "metadata": {},
   "outputs": [],
   "source": [
    "import logging\n",
    "\n",
    "# logformat=\"%(asctime)s %(levelname)s %(message)s\"\n",
    "logformat=\"%(asctime)s %(levelname)s %(message)s %(filename)s %(funcName)s %(lineno)d %(module)s %(name)s %(pathname)s %(process)d %(thread)d\"\n",
    "\n",
    "logging.basicConfig(filename=\"/workspaces/llm-dev/logs/test.log\",\n",
    "                    level=logging.DEBUG,\n",
    "                    format=logformat)\n",
    "\n",
    "logging.debug(\"debug message\")\n",
    "logging.info(\"info message\")\n",
    "logging.warning(\"Warning message\")"
   ]
  },
  {
   "cell_type": "code",
   "execution_count": null,
   "metadata": {},
   "outputs": [],
   "source": []
  }
 ],
 "metadata": {
  "kernelspec": {
   "display_name": "Python 3",
   "language": "python",
   "name": "python3"
  },
  "language_info": {
   "codemirror_mode": {
    "name": "ipython",
    "version": 3
   },
   "file_extension": ".py",
   "mimetype": "text/x-python",
   "name": "python",
   "nbconvert_exporter": "python",
   "pygments_lexer": "ipython3",
   "version": "3.11.7"
  }
 },
 "nbformat": 4,
 "nbformat_minor": 2
}
